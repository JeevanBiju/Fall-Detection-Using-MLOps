{
 "cells": [
  {
   "cell_type": "code",
   "execution_count": 1,
   "metadata": {},
   "outputs": [],
   "source": [
    "d = {\"key\":\"value\",\"key1\":\"value1\"}"
   ]
  },
  {
   "cell_type": "code",
   "execution_count": 3,
   "metadata": {},
   "outputs": [
    {
     "name": "stdout",
     "output_type": "stream",
     "text": [
      "Largest folder: E:/works/Main Project/Fall Detection Using MLOps\\templates\n",
      "Size: 92.02 MB\n"
     ]
    }
   ],
   "source": [
    "import os\n",
    "\n",
    "def get_folder_size(folder_path):\n",
    "    \"\"\"Returns total size of a folder (recursively) in bytes.\"\"\"\n",
    "    total_size = 0\n",
    "    for dirpath, dirnames, filenames in os.walk(folder_path):\n",
    "        for f in filenames:\n",
    "            fp = os.path.join(dirpath, f)\n",
    "            if os.path.isfile(fp):\n",
    "                total_size += os.path.getsize(fp)\n",
    "    return total_size\n",
    "\n",
    "def find_largest_subfolder(main_folder):\n",
    "    subfolders = [os.path.join(main_folder, d) for d in os.listdir(main_folder) if os.path.isdir(os.path.join(main_folder, d))]\n",
    "\n",
    "    if not subfolders:\n",
    "        print(\"No subfolders found.\")\n",
    "        return\n",
    "\n",
    "    folder_sizes = {folder: get_folder_size(folder) for folder in subfolders}\n",
    "    largest_folder = max(folder_sizes, key=folder_sizes.get)\n",
    "    largest_size = folder_sizes[largest_folder]\n",
    "\n",
    "    print(f\"Largest folder: {largest_folder}\")\n",
    "    print(f\"Size: {largest_size / (1024**2):.2f} MB\")\n",
    "\n",
    "# Example usage\n",
    "main_folder_path = 'E:/works/Main Project/Fall Detection Using MLOps'\n",
    "find_largest_subfolder(main_folder_path)\n"
   ]
  },
  {
   "cell_type": "code",
   "execution_count": null,
   "metadata": {},
   "outputs": [],
   "source": []
  }
 ],
 "metadata": {
  "kernelspec": {
   "display_name": "mlproj",
   "language": "python",
   "name": "python3"
  },
  "language_info": {
   "codemirror_mode": {
    "name": "ipython",
    "version": 3
   },
   "file_extension": ".py",
   "mimetype": "text/x-python",
   "name": "python",
   "nbconvert_exporter": "python",
   "pygments_lexer": "ipython3",
   "version": "3.8.19"
  }
 },
 "nbformat": 4,
 "nbformat_minor": 2
}
